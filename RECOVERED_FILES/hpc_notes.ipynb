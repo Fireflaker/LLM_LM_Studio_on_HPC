{
  "cells": [
    {
      "cell_type": "markdown",
      "metadata": {},
      "source": [
        "1+3"
      ]
    },
    {
      "cell_type": "markdown",
      "metadata": {},
      "source": [
        "## Storage policy and paths (keep HOME empty)\n",
        "\n",
        "- Personal HOME (small/quota): `/cluster/home/zwu09` — use only for emergencies/bootstrapping.\n",
        "- Primary working storage (all code, data, caches, envs):\n",
        "  - Datalab: `/cluster/tufts/datalab/zwu09` (granted) and `/cluster/tufts/datalab/EM212-LLM`\n",
        "  - Class: `/cluster/tufts/em212class/zwu09` (1 TB pool for class)\n",
        "- OnDemand sessions and SSH shells are separate allocations. Cancel unneeded OnDemand jobs to free resources.\n",
        "\n",
        "From tickets (2025-03 to 2025-04):\n",
        "- Datalab granted: `/cluster/tufts/datalab/EM212-LLM`, `/cluster/tufts/datalab/zwu09` (pool ~2.3T; near full at times)\n",
        "- Class space: `/cluster/tufts/em212class` 1000GB with ample free capacity\n",
        "\n",
        "Check quotas/usage:\n",
        "```bash\n",
        "# lab/class space\n",
        "df -h /cluster/tufts/datalab\n",
        "df -h /cluster/tufts/em212class\n",
        "\n",
        "# top-level HOME usage (run in an interactive shell)\n",
        "srun -n 1 -t 0-03:00 --mem 4G -p batch --pty bash\n",
        "du -h --max-depth=1 ~ | sort -hr | head -n 20\n",
        "```\n",
        "\n",
        "Rule of thumb:\n",
        "- Keep `~` empty; do not store datasets, models, or caches there.\n",
        "- Put EVERYTHING (code repos, conda/mamba envs, caches, temp, models) under `/cluster/tufts/datalab/zwu09` (or class path when appropriate).\n",
        "\n"
      ]
    },
    {
      "cell_type": "code",
      "execution_count": 1,
      "metadata": {},
      "outputs": [
        {
          "ename": "SyntaxError",
          "evalue": "invalid syntax (1678195054.py, line 4)",
          "output_type": "error",
          "traceback": [
            "\u001b[0;36m  Cell \u001b[0;32mIn[1], line 4\u001b[0;36m\u001b[0m\n\u001b[0;31m    export DATALAB_BASE=/cluster/tufts/datalab/zwu09\u001b[0m\n\u001b[0m           ^\u001b[0m\n\u001b[0;31mSyntaxError\u001b[0m\u001b[0;31m:\u001b[0m invalid syntax\n"
          ]
        }
      ],
      "source": [
        "# Redirect caches, tools, and environments to datalab\n",
        "# Run these in your login shell once, then re-login\n",
        "\n",
        "export DATALAB_BASE=/cluster/tufts/datalab/zwu09\n",
        "mkdir -p \"$DATALAB_BASE\"/{code,envs,caches,tmp,models}\n",
        "\n",
        "# Poetry / pip / wheel caches\n",
        "mkdir -p \"$DATALAB_BASE/caches/pip\"\n",
        "export PIP_CACHE_DIR=\"$DATALAB_BASE/caches/pip\"\n",
        "\n",
        "# Conda/Mamba envs and pkgs\n",
        "mkdir -p \"$DATALAB_BASE/envs/conda_pkgs\"\n",
        "export CONDA_ENVS_PATH=\"$DATALAB_BASE/envs\"\n",
        "export CONDA_PKGS_DIRS=\"$DATALAB_BASE/envs/conda_pkgs\"\n",
        "\n",
        "# Hugging Face\n",
        "mkdir -p \"$DATALAB_BASE/caches/huggingface\"\n",
        "export HF_HOME=\"$DATALAB_BASE/caches/huggingface\"\n",
        "\n",
        "# PyTorch\n",
        "mkdir -p \"$DATALAB_BASE/caches/torch\"\n",
        "export TORCH_HOME=\"$DATALAB_BASE/caches/torch\"\n",
        "\n",
        "# Jupyter runtime\n",
        "mkdir -p \"$DATALAB_BASE/tmp/jupyter\"\n",
        "export JUPYTER_RUNTIME_DIR=\"$DATALAB_BASE/tmp/jupyter\"\n",
        "\n",
        "# General tmp\n",
        "export TMPDIR=\"$DATALAB_BASE/tmp\"\n",
        "\n",
        "# Persist by appending to ~/.bashrc\n",
        "{\n",
        "  echo \"export DATALAB_BASE=$DATALAB_BASE\"\n",
        "  echo 'export PIP_CACHE_DIR=\"$DATALAB_BASE/caches/pip\"'\n",
        "  echo 'export CONDA_ENVS_PATH=\"$DATALAB_BASE/envs\"'\n",
        "  echo 'export CONDA_PKGS_DIRS=\"$DATALAB_BASE/envs/conda_pkgs\"'\n",
        "  echo 'export HF_HOME=\"$DATALAB_BASE/caches/huggingface\"'\n",
        "  echo 'export TORCH_HOME=\"$DATALAB_BASE/caches/torch\"'\n",
        "  echo 'export JUPYTER_RUNTIME_DIR=\"$DATALAB_BASE/tmp/jupyter\"'\n",
        "  echo 'export TMPDIR=\"$DATALAB_BASE/tmp\"'\n",
        "} >> ~/.bashrc\n",
        "\n",
        "echo \"Configured caches and envs under $DATALAB_BASE\"\n"
      ]
    }
  ],
  "metadata": {
    "kernelspec": {
      "display_name": "allenML2",
      "language": "python",
      "name": "allen2"
    }
  },
  "nbformat": 4,
  "nbformat_minor": 2
}
